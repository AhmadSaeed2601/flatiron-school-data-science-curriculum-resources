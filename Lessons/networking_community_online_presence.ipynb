{
 "cells": [
  {
   "cell_type": "markdown",
   "metadata": {
    "toc": true
   },
   "source": [
    "<h1>Table of Contents<span class=\"tocSkip\"></span></h1>\n",
    "<div class=\"toc\"><ul class=\"toc-item\"><li><span><a href=\"#Step-0:-Practice-your-skills\" data-toc-modified-id=\"Step-0:-Practice-your-skills-1\"><span class=\"toc-item-num\">1&nbsp;&nbsp;</span>Step 0: Practice your skills</a></span></li><li><span><a href=\"#Networking---The-Most-Intimidating-(For-the-Socially-Anxious)\" data-toc-modified-id=\"Networking---The-Most-Intimidating-(For-the-Socially-Anxious)-2\"><span class=\"toc-item-num\">2&nbsp;&nbsp;</span>Networking - The Most Intimidating (For the Socially Anxious)</a></span><ul class=\"toc-item\"><li><span><a href=\"#What-isit?\" data-toc-modified-id=\"What-isit?-2.1\"><span class=\"toc-item-num\">2.1&nbsp;&nbsp;</span>What isit?</a></span></li><li><span><a href=\"#Why?\" data-toc-modified-id=\"Why?-2.2\"><span class=\"toc-item-num\">2.2&nbsp;&nbsp;</span>Why?</a></span></li><li><span><a href=\"#How-to-do-it-(selfishly-doing-this-for-myself)\" data-toc-modified-id=\"How-to-do-it-(selfishly-doing-this-for-myself)-2.3\"><span class=\"toc-item-num\">2.3&nbsp;&nbsp;</span>How to do it (selfishly doing this for myself)</a></span></li></ul></li><li><span><a href=\"#Being-part-of-DS-community\" data-toc-modified-id=\"Being-part-of-DS-community-3\"><span class=\"toc-item-num\">3&nbsp;&nbsp;</span>Being part of DS community</a></span><ul class=\"toc-item\"><li><span><a href=\"#Last,-build-up-your-portfolio-(brand)\" data-toc-modified-id=\"Last,-build-up-your-portfolio-(brand)-3.1\"><span class=\"toc-item-num\">3.1&nbsp;&nbsp;</span>Last, build up your portfolio (brand)</a></span></li></ul></li><li><span><a href=\"#Resume\" data-toc-modified-id=\"Resume-4\"><span class=\"toc-item-num\">4&nbsp;&nbsp;</span>Resume</a></span></li></ul></div>"
   ]
  },
  {
   "cell_type": "markdown",
   "metadata": {},
   "source": [
    "> Preface (I am not an expert), there’s other resources\n",
    "> - You’re not in this alone at Flatiron (Thursday at 11:30 am to 12pm ET there is a Career Services AMA)\n",
    "> - Build aCareer in Data Science"
   ]
  },
  {
   "cell_type": "markdown",
   "metadata": {
    "heading_collapsed": true
   },
   "source": [
    "# Step 0: Practice your skills"
   ]
  },
  {
   "cell_type": "markdown",
   "metadata": {
    "heading_collapsed": true
   },
   "source": [
    "# Networking - The Most Intimidating (For the Socially Anxious)"
   ]
  },
  {
   "cell_type": "markdown",
   "metadata": {
    "heading_collapsed": true,
    "hidden": true
   },
   "source": [
    "## What isit?"
   ]
  },
  {
   "cell_type": "markdown",
   "metadata": {
    "hidden": true
   },
   "source": [
    "- Sometimes sounds like a dirty word\n",
    "- Really it’s about making a human connection\n",
    "- LinkedIn is basically  a requirement but could be other mediums"
   ]
  },
  {
   "cell_type": "markdown",
   "metadata": {
    "heading_collapsed": true,
    "hidden": true
   },
   "source": [
    "## Why?"
   ]
  },
  {
   "cell_type": "markdown",
   "metadata": {
    "hidden": true
   },
   "source": [
    "-  Personally, never got a role without talking to someone first (friend, reachout via LinkedIn, etc.)"
   ]
  },
  {
   "cell_type": "markdown",
   "metadata": {
    "heading_collapsed": true,
    "hidden": true
   },
   "source": [
    "## How to do it (selfishly doing this for myself)"
   ]
  },
  {
   "cell_type": "markdown",
   "metadata": {
    "hidden": true
   },
   "source": [
    "- Easy:  friends you work closely with\n",
    "- Medium:  people you sort of know (we all want to help one another)\n",
    "- Harder:  reaching out to people you don’t know (desired and the one can expand our horizons)"
   ]
  },
  {
   "cell_type": "markdown",
   "metadata": {
    "hidden": true
   },
   "source": [
    "Reaching out:\n",
    "\n",
    "- This can be the hardest but also the most worthwhile \n",
    "- Find people you want to be in the future (company, role, experience, - etc.)\n",
    "- Maybe a conference or seen them in something else\n",
    "- Reach out, share something\n",
    "    - I’m a student\n",
    "    - Interest in your role/company, could we chat?"
   ]
  },
  {
   "cell_type": "markdown",
   "metadata": {
    "heading_collapsed": true
   },
   "source": [
    "# Being part of DS community"
   ]
  },
  {
   "cell_type": "markdown",
   "metadata": {
    "hidden": true
   },
   "source": [
    "- Twitter\n",
    "- Kaggle\n",
    "    - Let’s look a the basics of Kaggle (getting noticed on Kaggle → link)\n",
    "    - Make sure you’re at least Blue"
   ]
  },
  {
   "cell_type": "markdown",
   "metadata": {
    "heading_collapsed": true,
    "hidden": true
   },
   "source": [
    "## Last, build up your portfolio (brand)"
   ]
  },
  {
   "cell_type": "markdown",
   "metadata": {
    "hidden": true
   },
   "source": [
    "- Technical ==  math/code practice\n",
    "- “Non-technical” ==communication\n",
    "- Both are part of a DS\n",
    "- Help you stand out"
   ]
  },
  {
   "cell_type": "markdown",
   "metadata": {
    "heading_collapsed": true
   },
   "source": [
    "# Resume"
   ]
  },
  {
   "cell_type": "markdown",
   "metadata": {
    "hidden": true
   },
   "source": [
    "* Gets you the interview (to talk to someone), doesn’t get you the job\n",
    "*It’s a first hurdle"
   ]
  }
 ],
 "metadata": {
  "kernelspec": {
   "display_name": "Python 3",
   "language": "python",
   "name": "python3"
  },
  "language_info": {
   "codemirror_mode": {
    "name": "ipython",
    "version": 3
   },
   "file_extension": ".py",
   "mimetype": "text/x-python",
   "name": "python",
   "nbconvert_exporter": "python",
   "pygments_lexer": "ipython3",
   "version": "3.8.5"
  },
  "toc": {
   "base_numbering": 1,
   "nav_menu": {},
   "number_sections": true,
   "sideBar": false,
   "skip_h1_title": false,
   "title_cell": "Table of Contents",
   "title_sidebar": "TOC",
   "toc_cell": true,
   "toc_position": {},
   "toc_section_display": true,
   "toc_window_display": false
  }
 },
 "nbformat": 4,
 "nbformat_minor": 4
}
